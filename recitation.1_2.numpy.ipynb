{
 "cells": [
  {
   "cell_type": "markdown",
   "metadata": {},
   "source": [
    "# ECBM E4040 2024 Fall Recitations\n",
    "\n",
    "## Session 1.2 - NumPy Tutorial"
   ]
  },
  {
   "cell_type": "markdown",
   "metadata": {},
   "source": [
    "## References:\n",
    "* https://docs.scipy.org/doc/numpy/user/quickstart.html\n",
    "* https://realpython.com/numpy-tensorflow-performance/\n",
    "* http://cs231n.github.io/python-numpy-tutorial/"
   ]
  },
  {
   "cell_type": "markdown",
   "metadata": {},
   "source": [
    "**Numpy is a core library for scientific computing in Python. It provides a high-performance multidimensional array object, and tools for working with these arrays.**"
   ]
  },
  {
   "cell_type": "markdown",
   "metadata": {},
   "source": [
    "## Array\n",
    "\n",
    "NumPy’s main object is the homogeneous multidimensional **array**. NumPy’s array class is called ndarray. It is also known by the alias array. Note that numpy.array is not the same as the Standard Python Library class array.array, which only handles one-dimensional arrays and offers less functionality. The more important attributes of an ndarray object are:\n",
    "- `ndarray.ndim`\n",
    "\n",
    "    The number of axes (dimensions) of the array.\n",
    "\n",
    "- `ndarray.shape`\n",
    "\n",
    "    The dimensions of the array. This is a tuple of integers indicating the size of the array in each dimension. For a matrix with *n* rows and *m* columns, `shape` will be `(n,m)`. The length of the `shape` tuple is therefore the number of axes, `ndim`.\n",
    "\n",
    "- `ndarray.size`\n",
    "\n",
    "    The total number of elements of the array. This is equal to the product of the elements of `shape`.\n",
    "\n",
    "- `ndarray.dtype`\n",
    "\n",
    "    An object describing the type of the elements in the array. One can create or specify dtype using standard Python types. Additionally NumPy provides types of its own. `numpy.int32`, `numpy.int16`, and `numpy.float64` are some examples.\n",
    "\n",
    "- `ndarray.itemsize`\n",
    "\n",
    "    The size in bytes of each element of the array. For example, an array of elements of type `float64` has `itemsize` *8 (=64/8)*, while one of type `complex32` has `itemsize` *4 (=32/8)*. It is equivalent to `ndarray.dtype.itemsize`.\n",
    "\n",
    "- `ndarray.data`\n",
    "\n",
    "    The buffer containing the actual elements of the array. Normally, we won’t need to use this attribute because we will access the elements in an array using indexing facilities.\n",
    "\n",
    "> More information at https://numpy.org/doc/stable/index.html"
   ]
  },
  {
   "cell_type": "code",
   "execution_count": 1,
   "metadata": {},
   "outputs": [],
   "source": [
    "import numpy as np"
   ]
  },
  {
   "cell_type": "markdown",
   "metadata": {},
   "source": [
    "### Array Creation"
   ]
  },
  {
   "cell_type": "code",
   "execution_count": 2,
   "metadata": {},
   "outputs": [
    {
     "name": "stdout",
     "output_type": "stream",
     "text": [
      "[[1, 2, 3], [4, 5, 6], [7, 8, 9]]\n",
      "<class 'list'> <class 'list'>\n"
     ]
    }
   ],
   "source": [
    "# Basically, in Python we can use nested list(tuple) to represent multidimensional arrays\n",
    "array_list = [[1,2,3],[4,5,6],[7,8,9]]\n",
    "print(array_list)\n",
    "print(type(array_list), type(array_list[0]))"
   ]
  },
  {
   "cell_type": "code",
   "execution_count": 3,
   "metadata": {},
   "outputs": [
    {
     "name": "stdout",
     "output_type": "stream",
     "text": [
      "[[1 2 3]\n",
      " [4 5 6]\n",
      " [7 8 9]]\n",
      "<class 'numpy.ndarray'>\n"
     ]
    }
   ],
   "source": [
    "# We can initialize numpy arrays from nested Python lists, and access elements using square brackets\n",
    "array_np = np.array(array_list)\n",
    "print(array_np)\n",
    "print(type(array_np))"
   ]
  },
  {
   "cell_type": "code",
   "execution_count": 4,
   "metadata": {},
   "outputs": [
    {
     "name": "stdout",
     "output_type": "stream",
     "text": [
      "shape: (3, 3)\n",
      "data type: int64\n",
      "size: 9\n"
     ]
    }
   ],
   "source": [
    "# some attributes of ndarray object\n",
    "print('shape:', array_np.shape)\n",
    "print('data type:', array_np.dtype)\n",
    "print('size:', array_np.size)"
   ]
  },
  {
   "cell_type": "code",
   "execution_count": 5,
   "metadata": {
    "tags": []
   },
   "outputs": [
    {
     "ename": "TypeError",
     "evalue": "array() takes from 1 to 2 positional arguments but 4 were given",
     "output_type": "error",
     "traceback": [
      "\u001b[0;31m---------------------------------------------------------------------------\u001b[0m",
      "\u001b[0;31mTypeError\u001b[0m                                 Traceback (most recent call last)",
      "\u001b[0;32m/var/folders/h0/nqrjmcgd0nn1y1vdtpg4q86h0000gn/T/ipykernel_2566/1395660953.py\u001b[0m in \u001b[0;36m<module>\u001b[0;34m\u001b[0m\n\u001b[1;32m      1\u001b[0m \u001b[0;31m# A frequent error consists in passing multiple numeric arguments to the array constructor,\u001b[0m\u001b[0;34m\u001b[0m\u001b[0;34m\u001b[0m\u001b[0;34m\u001b[0m\u001b[0m\n\u001b[1;32m      2\u001b[0m \u001b[0;31m# rather than providing a single list of numbers as an argument.\u001b[0m\u001b[0;34m\u001b[0m\u001b[0;34m\u001b[0m\u001b[0;34m\u001b[0m\u001b[0m\n\u001b[0;32m----> 3\u001b[0;31m \u001b[0ma\u001b[0m \u001b[0;34m=\u001b[0m \u001b[0mnp\u001b[0m\u001b[0;34m.\u001b[0m\u001b[0marray\u001b[0m\u001b[0;34m(\u001b[0m\u001b[0;36m1\u001b[0m\u001b[0;34m,\u001b[0m\u001b[0;36m2\u001b[0m\u001b[0;34m,\u001b[0m\u001b[0;36m3\u001b[0m\u001b[0;34m,\u001b[0m\u001b[0;36m4\u001b[0m\u001b[0;34m)\u001b[0m\u001b[0;34m\u001b[0m\u001b[0;34m\u001b[0m\u001b[0m\n\u001b[0m",
      "\u001b[0;31mTypeError\u001b[0m: array() takes from 1 to 2 positional arguments but 4 were given"
     ]
    }
   ],
   "source": [
    "# A frequent error consists in passing multiple numeric arguments to the array constructor, \n",
    "# rather than providing a single list of numbers as an argument.\n",
    "a = np.array(1,2,3,4)"
   ]
  },
  {
   "cell_type": "code",
   "execution_count": 6,
   "metadata": {},
   "outputs": [
    {
     "name": "stdout",
     "output_type": "stream",
     "text": [
      "[[0. 0.]\n",
      " [0. 0.]]\n",
      "[[1. 1.]]\n",
      "[[1 1 1]\n",
      " [1 1 1]\n",
      " [1 1 1]]\n"
     ]
    }
   ],
   "source": [
    "# Numpy also provides many functions to create arrays:\n",
    "a = np.zeros((2,2))   # Create an array of all zeros with a pre-specified shape\n",
    "print(a)\n",
    "\n",
    "b = np.ones((1,2))    # Create an array of all ones a pre-specified shape\n",
    "print(b)\n",
    "\n",
    "c = np.ones((3,3), dtype=np.int16)    # dtype can also be specified\n",
    "print(c)"
   ]
  },
  {
   "cell_type": "markdown",
   "metadata": {},
   "source": [
    "### Array Indexing and Slicing"
   ]
  },
  {
   "cell_type": "code",
   "execution_count": 7,
   "metadata": {},
   "outputs": [
    {
     "name": "stdout",
     "output_type": "stream",
     "text": [
      "8\n",
      "[ 8 27 64]\n",
      "729\n",
      "[729 512 343 216 125  64  27   8   1   0]\n"
     ]
    }
   ],
   "source": [
    "# One-dimensional arrays can be indexed, sliced and iterated over, much like lists and other Python sequences. \n",
    "a = np.arange(10)**3\n",
    "\n",
    "print(a[2])\n",
    "print(a[2:5])\n",
    "print(a[-1])\n",
    "print(a[::-1])"
   ]
  },
  {
   "cell_type": "markdown",
   "metadata": {},
   "source": [
    "The expression within brackets in `b[i]` is treated as an `i` followed by as many instances of `:` as needed to represent the remaining axes. \n",
    "\n",
    "NumPy also allows you to write this using dots as `b[i,...]`.\n",
    "\n",
    "The dots (`...`) represent as many colons as needed to produce a complete indexing tuple. \n",
    "For example, if `x` is an array with 5 axes, then:\n",
    "\n",
    "- `x[1,2,...]` is equivalent to `x[1,2,:,:,:]`\n",
    "- `x[...,3]` is equivalent to `x[:,:,:,:,3]`\n",
    "- `x[4,...,5,:]` is equivalent to `x[4,:,:,5,:]`"
   ]
  },
  {
   "cell_type": "code",
   "execution_count": 8,
   "metadata": {},
   "outputs": [
    {
     "name": "stdout",
     "output_type": "stream",
     "text": [
      "[[2 3]\n",
      " [6 7]]\n",
      "2\n",
      "66\n"
     ]
    }
   ],
   "source": [
    "# Create the following rank 2 array with shape (3, 4)\n",
    "# [[ 1  2  3  4]\n",
    "#  [ 5  6  7  8]\n",
    "#  [ 9 10 11 12]]\n",
    "a = np.array([[1,2,3,4], [5,6,7,8], [9,10,11,12]])\n",
    "\n",
    "# Use slicing to pull out the subarray consisting of the first 2 rows\n",
    "# and columns 1 and 2; b is the following array of shape (2, 2)\n",
    "b = a[:2, 1:3]\n",
    "print(b)\n",
    "\n",
    "# A slice of an array is a view into the same data, so modifying it\n",
    "# will modify the original array.\n",
    "print(a[0, 1])\n",
    "b[0, 0] = 66    # b[0, 0] is the same piece of data as a[0, 1]\n",
    "print(a[0, 1])"
   ]
  },
  {
   "cell_type": "code",
   "execution_count": 9,
   "metadata": {},
   "outputs": [
    {
     "name": "stdout",
     "output_type": "stream",
     "text": [
      "[5 6 7 8] (4,)\n",
      "[[5 6 7 8]] (1, 4)\n",
      "[ 4  8 12] (3,)\n",
      "[[ 4]\n",
      " [ 8]\n",
      " [12]] (3, 1)\n"
     ]
    }
   ],
   "source": [
    "# You can also mix integer indexing with slice indexing. \n",
    "# However, doing so will yield an array of smaller number of dimensions than the original array.\n",
    "a = np.array([[1,2,3,4], [5,6,7,8], [9,10,11,12]])\n",
    "\n",
    "row_r1 = a[1, :]    # view of the second row of a with dim=1\n",
    "row_r2 = a[1:2, :]  # view of the second row of a with dim=2\n",
    "print(row_r1, row_r1.shape)\n",
    "print(row_r2, row_r2.shape)\n",
    "\n",
    "col_r1 = a[:, 3]\n",
    "col_r2 = a[:, 3:4]\n",
    "print(col_r1, col_r1.shape)\n",
    "print(col_r2, col_r2.shape)"
   ]
  },
  {
   "cell_type": "code",
   "execution_count": 11,
   "metadata": {},
   "outputs": [
    {
     "name": "stdout",
     "output_type": "stream",
     "text": [
      "[1 4 5]\n",
      "[1 4 5]\n"
     ]
    }
   ],
   "source": [
    "# When you index into numpy arrays using slicing, \n",
    "# the resulting array view will always be a subarray of the original array.\n",
    "# [[1 2]\n",
    "#  [3 4]\n",
    "#  [5 6]]\n",
    "a = np.array([[1,2], [3,4], [5,6]])\n",
    "\n",
    "print(a[[0,1,2], [0,1,0]])\n",
    "print(np.array([a[0,0], a[1,1], a[2,0]]))"
   ]
  },
  {
   "cell_type": "markdown",
   "metadata": {},
   "source": [
    "### Array Math"
   ]
  },
  {
   "cell_type": "code",
   "execution_count": 12,
   "metadata": {},
   "outputs": [
    {
     "name": "stdout",
     "output_type": "stream",
     "text": [
      "[20 29 38 47]\n",
      "[0 1 4 9]\n"
     ]
    }
   ],
   "source": [
    "# Arithmetic operators on arrays apply elementwise.\n",
    "a = np.array([20,30,40,50])\n",
    "b = np.arange(4) # [0, 1, 2, 3]\n",
    "\n",
    "print(a-b)\n",
    "print(b**2)"
   ]
  },
  {
   "cell_type": "code",
   "execution_count": 13,
   "metadata": {},
   "outputs": [
    {
     "name": "stdout",
     "output_type": "stream",
     "text": [
      "[[2 0]\n",
      " [0 4]]\n",
      "[[5 4]\n",
      " [3 4]]\n",
      "[[5 4]\n",
      " [3 4]]\n"
     ]
    }
   ],
   "source": [
    "# Unlike many matrix languages (like Matlab), the product operator * operates elementwise in NumPy arrays. \n",
    "# The matrix product can be performed using the @ operator (in python >=3.5) or the matmul function:\n",
    "A = np.array([[1,1], [0,1]])\n",
    "B = np.array([[2,0], [3,4]])\n",
    "\n",
    "print(A*B)\n",
    "print(A@B)\n",
    "print(np.matmul(A, B))"
   ]
  },
  {
   "cell_type": "markdown",
   "metadata": {},
   "source": [
    "**Note:**\n",
    "- Some resources may recommand using [`np.dot`](https://numpy.org/doc/stable/reference/generated/numpy.dot.html) for matrix multiplication. We, however, discourage the usage of this function since it generally operates on vector-vector, vector-matrix, matrix-matrix and even scalar multiplications. Don't use this function unless you know *exactly* what you're doing.\n",
    "- When operating with arrays of different types, the type of the resulting array corresponds to the more general or precise one (a behavior known as upcasting). However, it would be a good habit to avoid all computations between different data types in general."
   ]
  },
  {
   "cell_type": "markdown",
   "metadata": {},
   "source": [
    "### Changing Shape"
   ]
  },
  {
   "cell_type": "code",
   "execution_count": 14,
   "metadata": {},
   "outputs": [
    {
     "data": {
      "text/plain": [
       "(3, 4)"
      ]
     },
     "execution_count": 14,
     "metadata": {},
     "output_type": "execute_result"
    }
   ],
   "source": [
    "# An array has a shape given by the number of elements along each axis:\n",
    "a = np.floor(10*np.random.random((3,4)))\n",
    "a.shape"
   ]
  },
  {
   "cell_type": "code",
   "execution_count": 15,
   "metadata": {},
   "outputs": [
    {
     "name": "stdout",
     "output_type": "stream",
     "text": [
      "[4. 3. 5. 4. 3. 5. 2. 2. 6. 4. 3. 8.] (12,)\n",
      "[[4. 3.]\n",
      " [5. 4.]\n",
      " [3. 5.]\n",
      " [2. 2.]\n",
      " [6. 4.]\n",
      " [3. 8.]]\n",
      "[[4. 3. 6.]\n",
      " [3. 5. 4.]\n",
      " [5. 2. 3.]\n",
      " [4. 2. 8.]]\n"
     ]
    }
   ],
   "source": [
    "# The shape of an array can be changed with various commands. \n",
    "# Note that the following three commands all return a modified array, but DO NOT change the original array:\n",
    "# returns the array, flattened\n",
    "print(a.ravel(), a.ravel().shape)\n",
    "print(a.reshape(6,2))\n",
    "print(a.T)"
   ]
  },
  {
   "cell_type": "code",
   "execution_count": 16,
   "metadata": {},
   "outputs": [
    {
     "name": "stdout",
     "output_type": "stream",
     "text": [
      "[[4. 3. 5. 4. 3. 5.]\n",
      " [2. 2. 6. 4. 3. 8.]]\n"
     ]
    }
   ],
   "source": [
    "# The reshape function returns its argument with a modified shape, \n",
    "# whereas the ndarray.resize method modifies the array ITSELF:\n",
    "a.resize((2,6))\n",
    "print(a)"
   ]
  },
  {
   "cell_type": "code",
   "execution_count": 17,
   "metadata": {},
   "outputs": [
    {
     "data": {
      "text/plain": [
       "array([[4., 3., 5., 4.],\n",
       "       [3., 5., 2., 2.],\n",
       "       [6., 4., 3., 8.]])"
      ]
     },
     "execution_count": 17,
     "metadata": {},
     "output_type": "execute_result"
    }
   ],
   "source": [
    "# If a dimension is given as -1, the shape along this dimension is automatically calculated:\n",
    "a.reshape(3,-1)"
   ]
  },
  {
   "cell_type": "markdown",
   "metadata": {},
   "source": [
    "### Stacking and Spliting"
   ]
  },
  {
   "cell_type": "code",
   "execution_count": 18,
   "metadata": {},
   "outputs": [
    {
     "name": "stdout",
     "output_type": "stream",
     "text": [
      "[[1. 2.]\n",
      " [3. 6.]]\n",
      "[[9. 6.]\n",
      " [2. 6.]]\n",
      "[[1. 2.]\n",
      " [3. 6.]\n",
      " [9. 6.]\n",
      " [2. 6.]]\n",
      "[[1. 2. 9. 6.]\n",
      " [3. 6. 2. 6.]]\n"
     ]
    }
   ],
   "source": [
    "# Several arrays can be stacked together along different axes:\n",
    "a = np.floor(10*np.random.random((2,2)))\n",
    "b = np.floor(10*np.random.random((2,2)))\n",
    "\n",
    "print(a)\n",
    "print(b)\n",
    "print(np.vstack((a,b)))\n",
    "print(np.hstack((a,b)))"
   ]
  },
  {
   "cell_type": "code",
   "execution_count": 18,
   "metadata": {},
   "outputs": [
    {
     "name": "stdout",
     "output_type": "stream",
     "text": [
      "[[8. 5. 8. 2. 7. 0. 7. 8. 0. 1. 3. 9.]\n",
      " [9. 6. 3. 4. 9. 6. 3. 6. 5. 6. 4. 4.]]\n",
      "[array([[8., 5., 8., 2.],\n",
      "       [9., 6., 3., 4.]]), array([[7., 0., 7., 8.],\n",
      "       [9., 6., 3., 6.]]), array([[0., 1., 3., 9.],\n",
      "       [5., 6., 4., 4.]])]\n",
      "[array([[8., 5., 8.],\n",
      "       [9., 6., 3.]]), array([[2.],\n",
      "       [4.]]), array([[7., 0., 7., 8., 0., 1., 3., 9.],\n",
      "       [9., 6., 3., 6., 5., 6., 4., 4.]])]\n"
     ]
    }
   ],
   "source": [
    "# Using hsplit, you can split an array along its horizontal axis, \n",
    "# either by specifying the number of equally shaped arrays to return, \n",
    "# or by specifying the columns after which the division should occur:\n",
    "a = np.floor(10*np.random.random((2,12)))\n",
    "print(a)\n",
    "\n",
    "# Split a into 3\n",
    "print(np.hsplit(a,3))\n",
    "\n",
    "# Split a after the third and the fourth column\n",
    "print(np.hsplit(a,(3,4)))"
   ]
  },
  {
   "cell_type": "markdown",
   "metadata": {},
   "source": [
    "## Copies and views\n",
    "\n",
    "When operating and manipulating arrays, their data is sometimes copied into a new array and sometimes not. This is often a source of confusion for beginners. There are three cases:"
   ]
  },
  {
   "cell_type": "markdown",
   "metadata": {},
   "source": [
    "### No Copy"
   ]
  },
  {
   "cell_type": "code",
   "execution_count": 27,
   "metadata": {},
   "outputs": [
    {
     "name": "stdout",
     "output_type": "stream",
     "text": [
      "[ 0  1  2  3  4  5  6  7  8  9 10 11]\n",
      "[ 0  1  2  3  4  5  6  7  8  9 10 11]\n",
      "[100   1   2   3   4   5   6   7   8   9  10  11]\n",
      "[100   1   2   3   4   5   6   7   8   9  10  11]\n",
      "[[100   1   2   3]\n",
      " [  4   5   6   7]\n",
      " [  8   9  10  11]]\n"
     ]
    }
   ],
   "source": [
    "# Simple assignments make no copy of array objects or of their data.\n",
    "a = np.arange(12)\n",
    "b = a    # no new object is created\n",
    "print(a)\n",
    "print(b)\n",
    "\n",
    "b[0] = 100\n",
    "print(b)\n",
    "print(a)\n",
    "\n",
    "b.shape = 3,4\n",
    "print(a)"
   ]
  },
  {
   "cell_type": "markdown",
   "metadata": {},
   "source": [
    "### Shallow Copy - `view`"
   ]
  },
  {
   "cell_type": "code",
   "execution_count": 28,
   "metadata": {},
   "outputs": [
    {
     "name": "stdout",
     "output_type": "stream",
     "text": [
      "False\n",
      "True\n",
      "[[100   1   2   3   4   5]\n",
      " [  6   7   8   9  10  11]]\n",
      "(3, 4)\n",
      "[[999   1   2   3]\n",
      " [  4   5   6   7]\n",
      " [  8   9  10  11]]\n"
     ]
    }
   ],
   "source": [
    "# Different array objects can share the same data.\n",
    "# The view method creates a new array object that looks at the same data\n",
    "c = a.view()\n",
    "\n",
    "print(c is a) # the key word `is` compares the address of the object\n",
    "print(c.base is a)\n",
    "\n",
    "# shape is a property exclusive of each view object\n",
    "# so the same patch of data can be viewed as different shapes\n",
    "c.shape = 2,6\n",
    "print(c)\n",
    "print(a.shape)\n",
    "\n",
    "# but the data themselves are shared between objects\n",
    "c[0,0] = 999\n",
    "print(a)"
   ]
  },
  {
   "cell_type": "code",
   "execution_count": 29,
   "metadata": {},
   "outputs": [
    {
     "name": "stdout",
     "output_type": "stream",
     "text": [
      "[[999  10  10   3]\n",
      " [  4  10  10   7]\n",
      " [  8  10  10  11]]\n"
     ]
    }
   ],
   "source": [
    "# Slicing an array returns a view of it:\n",
    "s = a[:,1:3]\n",
    "s[:] = 10    # s[:] is a view of s.\n",
    "print(a)"
   ]
  },
  {
   "cell_type": "markdown",
   "metadata": {},
   "source": [
    "### Deep Copy"
   ]
  },
  {
   "cell_type": "code",
   "execution_count": 30,
   "metadata": {},
   "outputs": [
    {
     "name": "stdout",
     "output_type": "stream",
     "text": [
      "False\n",
      "False\n",
      "[[ 0 10 10  3]\n",
      " [ 4 10 10  7]\n",
      " [ 8 10 10 11]]\n",
      "[[999  10  10   3]\n",
      " [  4  10  10   7]\n",
      " [  8  10  10  11]]\n"
     ]
    }
   ],
   "source": [
    "# The copy method makes a complete copy of the array and its data.\n",
    "d = a.copy()\n",
    "print(d is a)\n",
    "print(d.base is a)\n",
    "\n",
    "d[0,0] = 0\n",
    "print(d)\n",
    "print(a)"
   ]
  },
  {
   "cell_type": "markdown",
   "metadata": {},
   "source": [
    "## Broadcasting\n",
    "\n",
    "Broadcasting is a powerful mechanism that allows numpy to work with arrays of different shapes when performing arithmetic operations. Frequently we have a smaller array and a larger array, and we want to use the smaller array multiple times to perform some operation on the larger array.\n",
    "\n",
    "Say we wish to add a vector `v` to each row of a matrix `x`. Compare the following 3 algorithms:"
   ]
  },
  {
   "cell_type": "code",
   "execution_count": 37,
   "metadata": {},
   "outputs": [],
   "source": [
    "import time\n",
    "x = np.array([[1,2,3], [4,5,6], [7,8,9], [10, 11, 12]])\n",
    "v = np.array([1, 0, 1])\n",
    "y = np.empty_like(x)   # Create an empty matrix with the same shape as x"
   ]
  },
  {
   "cell_type": "code",
   "execution_count": 49,
   "metadata": {},
   "outputs": [
    {
     "name": "stdout",
     "output_type": "stream",
     "text": [
      "[[ 2  2  4]\n",
      " [ 5  5  7]\n",
      " [ 8  8 10]\n",
      " [11 11 13]]\n",
      "357.0\n"
     ]
    }
   ],
   "source": [
    "# Add the vector v to each row of the matrix x with an explicit loop\n",
    "start = time.time_ns()\n",
    "for i in range(4):\n",
    "    y[i, :] = x[i, :] + v\n",
    "elapsed = time.time_ns() - start\n",
    "print(y)\n",
    "print(elapsed / 1000)"
   ]
  },
  {
   "cell_type": "code",
   "execution_count": 50,
   "metadata": {},
   "outputs": [
    {
     "name": "stdout",
     "output_type": "stream",
     "text": [
      "[[ 2  2  4]\n",
      " [ 5  5  7]\n",
      " [ 8  8 10]\n",
      " [11 11 13]]\n",
      "172.0\n"
     ]
    }
   ],
   "source": [
    "# using matrix\n",
    "start = time.time_ns()\n",
    "vv = np.tile(v, (4, 1))   # Stack 4 copies of v on top of each other\n",
    "y = x + vv  # Add x and vv elementwise\n",
    "elapsed = time.time_ns() - start\n",
    "print(y)\n",
    "print(elapsed / 1000)"
   ]
  },
  {
   "cell_type": "code",
   "execution_count": 51,
   "metadata": {},
   "outputs": [
    {
     "name": "stdout",
     "output_type": "stream",
     "text": [
      "[[ 2  2  4]\n",
      " [ 5  5  7]\n",
      " [ 8  8 10]\n",
      " [11 11 13]]\n",
      "135.0\n"
     ]
    }
   ],
   "source": [
    "start = time.time_ns()\n",
    "y = x + v  # Add v to each row of x using broadcasting\n",
    "elapsed = time.time_ns() - start\n",
    "print(y)\n",
    "print(elapsed / 1000)"
   ]
  },
  {
   "cell_type": "markdown",
   "metadata": {},
   "source": [
    "Broadcasting two arrays together follows these **rules**:\n",
    "\n",
    "- If the arrays do not have the same number of dimensions, wrap the lower dimensional array with a new array until both shapes have the same length (`[1, 2] -> [[1, 2]] -> [[[1, 2]]] -> ...`).\n",
    "- The two arrays are said to be compatible in a dimension if they have the same size in the dimension, or if one of the arrays has size 1 in that dimension (all three shapes are compatible: `a.shape = (3,4), b.shape=(3,4), c.shape=(1,4)`).\n",
    "- The arrays can be broadcasted together if they are compatible in ***all*** dimensions, or can be compatible in all dimensions after wrapping.\n",
    "- In any dimension where one array had size 1 and the other array had size greater than 1, the first array behaves as if it were copied along that dimension (`[1] + [[2],[3]] -> [[1]] + [[2],[3]] -> [[1],[1]] + [[2],[3]]`).\n",
    "\n",
    "> More information: https://numpy.org/doc/stable/user/basics.broadcasting.html"
   ]
  },
  {
   "cell_type": "markdown",
   "metadata": {},
   "source": [
    "There are much more about NumPy that we could not cover in this short recitation. You are welcome to explore by yourselves."
   ]
  },
  {
   "cell_type": "markdown",
   "metadata": {},
   "source": []
  }
 ],
 "metadata": {
  "kernelspec": {
   "display_name": "Python 3 (ipykernel)",
   "language": "python",
   "name": "python3"
  },
  "language_info": {
   "codemirror_mode": {
    "name": "ipython",
    "version": 3
   },
   "file_extension": ".py",
   "mimetype": "text/x-python",
   "name": "python",
   "nbconvert_exporter": "python",
   "pygments_lexer": "ipython3",
   "version": "3.7.11"
  },
  "vscode": {
   "interpreter": {
    "hash": "0e1c6790556d9715f0c5f336baccb730b1eb6fd7378371b19e40b5e23833f2cd"
   }
  }
 },
 "nbformat": 4,
 "nbformat_minor": 4
}
