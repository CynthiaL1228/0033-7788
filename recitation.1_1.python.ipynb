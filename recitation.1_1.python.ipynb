{
 "cells": [
  {
   "cell_type": "markdown",
   "metadata": {},
   "source": [
    "# ECBM E4040 2024 Fall Recitations\n",
    "\n",
    "## Session 1.1 - Python Basics"
   ]
  },
  {
   "cell_type": "markdown",
   "metadata": {},
   "source": [
    "## References:\n",
    "* https://gist.github.com/kenjyco/69eeb503125035f21a9d#file-learning-python3-ipynb\n",
    "* https://www.programiz.com/python-programming/\n",
    "* https://docs.python.org/3/tutorial/controlflow.html"
   ]
  },
  {
   "cell_type": "markdown",
   "metadata": {},
   "source": [
    "## IPython/Jupyter Notebooks\n",
    "\n",
    "In this course, we will be using IPython/Jupyter Notebooks for assignments and projects. The IPython Notebook allows for the inline inclusion of a number of different types of cell inputs. The most critical ones include:\n",
    "- Code (Python, C/C++, SQL etc.)\n",
    "- Markdown, which allows for\n",
    "  - LaTeX\n",
    "  - HTML/XML\n",
    "\n",
    "> **Markdown Introduction**: https://en.support.wordpress.com/markdown-quick-reference/"
   ]
  },
  {
   "cell_type": "markdown",
   "metadata": {},
   "source": [
    "## Python Objects, Basic Types and Variables\n",
    "\n",
    "Python is an OOP (Object-Oriented Programming) language, which means that *everything* in Python is an **object**. Every object in Python has a **type**. Some of the most basic types include:"
   ]
  },
  {
   "cell_type": "markdown",
   "metadata": {},
   "source": [
    "**`int`**"
   ]
  },
  {
   "cell_type": "code",
   "execution_count": 39,
   "metadata": {},
   "outputs": [
    {
     "data": {
      "text/plain": [
       "-3"
      ]
     },
     "execution_count": 39,
     "metadata": {},
     "output_type": "execute_result"
    }
   ],
   "source": [
    "# integer: a whole number with no decimal\n",
    "-3"
   ]
  },
  {
   "cell_type": "markdown",
   "metadata": {},
   "source": [
    "**`float`**"
   ]
  },
  {
   "cell_type": "code",
   "execution_count": 40,
   "metadata": {},
   "outputs": [
    {
     "data": {
      "text/plain": [
       "7.41"
      ]
     },
     "execution_count": 40,
     "metadata": {},
     "output_type": "execute_result"
    }
   ],
   "source": [
    "# float: a number with decimal\n",
    "7.41"
   ]
  },
  {
   "cell_type": "markdown",
   "metadata": {},
   "source": [
    "**`bool`**"
   ]
  },
  {
   "cell_type": "code",
   "execution_count": 45,
   "metadata": {},
   "outputs": [
    {
     "data": {
      "text/plain": [
       "(True, False)"
      ]
     },
     "execution_count": 45,
     "metadata": {},
     "output_type": "execute_result"
    }
   ],
   "source": [
    "# boolean: a binary value that is either true or false\n",
    "True, False"
   ]
  },
  {
   "cell_type": "markdown",
   "metadata": {},
   "source": [
    "**`str`**"
   ]
  },
  {
   "cell_type": "code",
   "execution_count": 41,
   "metadata": {},
   "outputs": [
    {
     "data": {
      "text/plain": [
       "'this is a string using single quotes'"
      ]
     },
     "execution_count": 41,
     "metadata": {},
     "output_type": "execute_result"
    }
   ],
   "source": [
    "# string: a sequence of characters enclosed in *single quotes*, *double quotes*, or *triple quotes*\n",
    "'this is a string using single quotes'"
   ]
  },
  {
   "cell_type": "code",
   "execution_count": 42,
   "metadata": {},
   "outputs": [
    {
     "data": {
      "text/plain": [
       "'this is a string using double quotes'"
      ]
     },
     "execution_count": 42,
     "metadata": {},
     "output_type": "execute_result"
    }
   ],
   "source": [
    "\"this is a string using double quotes\""
   ]
  },
  {
   "cell_type": "code",
   "execution_count": 43,
   "metadata": {},
   "outputs": [
    {
     "data": {
      "text/plain": [
       "'this is a triple quoted string using single quotes'"
      ]
     },
     "execution_count": 43,
     "metadata": {},
     "output_type": "execute_result"
    }
   ],
   "source": [
    "'''this is a triple quoted string using single quotes'''"
   ]
  },
  {
   "cell_type": "code",
   "execution_count": 44,
   "metadata": {},
   "outputs": [
    {
     "data": {
      "text/plain": [
       "'\\nthis is a triple quoted string using double quotes\\nthat can be of multiple lines\\n'"
      ]
     },
     "execution_count": 44,
     "metadata": {},
     "output_type": "execute_result"
    }
   ],
   "source": [
    "\"\"\"\n",
    "this is a triple quoted string using double quotes\n",
    "that can be of multiple lines\n",
    "\"\"\""
   ]
  },
  {
   "cell_type": "markdown",
   "metadata": {},
   "source": [
    "**`NoneType`**"
   ]
  },
  {
   "cell_type": "code",
   "execution_count": 47,
   "metadata": {},
   "outputs": [],
   "source": [
    "# a special type representing the absence of a value (which explains the absence of outputs)\n",
    "None"
   ]
  },
  {
   "cell_type": "markdown",
   "metadata": {},
   "source": [
    "In Python, a **variable** is a name you specify in your code that maps to a particular **object**, object **instance**, or value.\n",
    "\n",
    "By defining variables, we can refer to things by names that make sense to us. Names for variables can only contain *letters*, *underscores* (`_`), or *numbers* (no spaces, dashes, or other characters). Variable names *must start with a letter or underscore*."
   ]
  },
  {
   "cell_type": "markdown",
   "metadata": {},
   "source": [
    "## Basic operators\n",
    "\n",
    "In Python, there are different types of **operators** (special symbols) that operate on different values. Some of the basic operators include:\n",
    "\n",
    "- Arithmetic Operators\n",
    "  - `+` (addition)\n",
    "  - `-` (subtraction)\n",
    "  - `*` (multiplication)\n",
    "  - `/` (division)\n",
    "  - `%` (mod)\n",
    "  - `**` (exponent).\n",
    "  - `//` (floor division)\n",
    "- Assignment Operators\n",
    "  - `=` (assign a value)\n",
    "  - `+=` (add and re-assign; increment)\n",
    "  - `-=` (subtract and re-assign; decrement)\n",
    "  - `*=` (multiply and re-assign)\n",
    "- Comparison Operators (return either `True` or `False`)\n",
    "  - `==` (equal to)\n",
    "  - `!=` (not equal to)\n",
    "  - `<` (less than)\n",
    "  - `<=` (less than or equal to)\n",
    "  - `>` (greater than)\n",
    "  - `>=` (greater than or equal to)\n",
    "\n",
    "When multiple operators are used in a single expression, **operator precedence** determines which parts of the expression are evaluated in which order. Operators with higher precedence are evaluated first (like PEMDAS in math). Operators with the same precedence are evaluated from left to right.\n",
    "\n",
    "- `()` parentheses, for grouping\n",
    "- `**` exponent\n",
    "- `*`, `/` multiplication and division\n",
    "- `+`, `-` addition and subtraction\n",
    "- `==`, `!=`, `<`, `<=`, `>`, `>=` comparisons\n",
    "\n",
    "> See https://docs.python.org/3/reference/expressions.html#operator-precedence"
   ]
  },
  {
   "cell_type": "code",
   "execution_count": 1,
   "metadata": {},
   "outputs": [
    {
     "name": "stdout",
     "output_type": "stream",
     "text": [
      "exponent: 25\n"
     ]
    }
   ],
   "source": [
    "# exponent\n",
    "print('exponent:', 5 ** 2)"
   ]
  },
  {
   "cell_type": "code",
   "execution_count": 25,
   "metadata": {
    "scrolled": true
   },
   "outputs": [
    {
     "name": "stdout",
     "output_type": "stream",
     "text": [
      "division: 2.5 - <class 'float'>\n",
      "division: 2.0 - <class 'float'>\n",
      "floor division: 2 - <class 'int'>\n"
     ]
    }
   ],
   "source": [
    "# division: returns a float\n",
    "print('division:', 5/2, '-', type(5/2))\n",
    "print('division: {} - {}'.format(4/2, type(5/2)))\n",
    "\n",
    "# floor division: returns an int\n",
    "print('floor division: {} - {}'.format(5//2, type(5//2)))"
   ]
  },
  {
   "cell_type": "markdown",
   "metadata": {},
   "source": [
    "> More usages about `str.format()` can be found at https://www.digitalocean.com/community/tutorials/how-to-use-string-formatters-in-python-3"
   ]
  },
  {
   "cell_type": "markdown",
   "metadata": {},
   "source": [
    "## Basic containers\n",
    "\n",
    "Containers are objects that can be used to group other objects together. Basic Python container types include:\n",
    "- **`str`** (string: immutable; indexed by integers; items are stored in the order they were added; items must be characters)\n",
    "- **`list`** (list: mutable; indexed by integers; items are stored in the order they were added; items can be anything)\n",
    "  - `[3, 5, 6, 3, 'dog', 'cat', False]`\n",
    "- **`tuple`** (tuple: immutable; indexed by integers; items are stored in the order they were added; items can be anything)\n",
    "  - `(3, 5, 6, 3, 'dog', 'cat', False)`\n",
    "- **`set`** (set: mutable; cannot be indexed; items are NOT stored in the order they were added; *items must be immutable objects*; does NOT contain duplicates)\n",
    "  - `{3, 5, 6, 3, 'dog', 'cat', False}`\n",
    "- **`dict`** (dictionary: mutable; key-value pairs are indexed by *immutable* keys; items are NOT stored in the order they were added; values can be anything)\n",
    "  - `{'name': 'Jane', 'age': 23, 'fav_foods': ['pizza', 'fruit', 'fish']}`\n",
    "\n",
    "> Note: **Mutable** objects can be modified after creation but **immutable** objects cannot. In general, only **immutable** objects are hashable, thus can be used as set items or dictionary keys (immplemented by hashtables).\n",
    "\n",
    "When defining **lists**, **tuples** and **sets**, use comma **`,`** to separate the individual items. When defining **dictionaries**, use colon **`:`** to separate keys from values and commas **`,`** to separate key-value pairs.\n",
    "\n",
    "**Strings**, **lists**, and **tuples** are all derived from **sequence types** where `+` (concatenation), `*` (duplicated expansion), `+=` (self-expansion), and `*=` (duplicated self-expansion) operators are defined."
   ]
  },
  {
   "cell_type": "markdown",
   "metadata": {},
   "source": [
    "### String: \n",
    "\n",
    "> More information at https://www.programiz.com/python-programming/methods/string"
   ]
  },
  {
   "cell_type": "code",
   "execution_count": 20,
   "metadata": {
    "scrolled": true
   },
   "outputs": [
    {
     "name": "stdout",
     "output_type": "stream",
     "text": [
      "repetition: ecbm4040ecbm4040ecbm4040ecbm4040\n",
      "concatenation: ecbm4040 deep learning & neural network\n"
     ]
    }
   ],
   "source": [
    "s1 = 'ecbm4040'\n",
    "s2 = 'deep learning & neural network'\n",
    "\n",
    "# repetition\n",
    "s3 = s1 * 4\n",
    "print(\"repetition: {}\".format(s3))\n",
    "\n",
    "# concatenation\n",
    "s4 = s1 + ' ' + s2\n",
    "print(\"concatenation: {}\".format(s4))"
   ]
  },
  {
   "cell_type": "code",
   "execution_count": 21,
   "metadata": {},
   "outputs": [
    {
     "name": "stdout",
     "output_type": "stream",
     "text": [
      "1st character in s1: e\n",
      "first 4 characters of s1: ecbm\n"
     ]
    }
   ],
   "source": [
    "# index\n",
    "print(\"1st character in s1: {}\".format(s1[0]))\n",
    "\n",
    "# slice\n",
    "print(\"first 4 characters of s1: {}\".format(s1[:4]))"
   ]
  },
  {
   "cell_type": "code",
   "execution_count": 22,
   "metadata": {},
   "outputs": [
    {
     "ename": "TypeError",
     "evalue": "'str' object does not support item assignment",
     "output_type": "error",
     "traceback": [
      "\u001b[0;31m---------------------------------------------------------------------------\u001b[0m",
      "\u001b[0;31mTypeError\u001b[0m                                 Traceback (most recent call last)",
      "\u001b[0;32m/var/folders/h0/nqrjmcgd0nn1y1vdtpg4q86h0000gn/T/ipykernel_2148/1986238495.py\u001b[0m in \u001b[0;36m<module>\u001b[0;34m\u001b[0m\n\u001b[1;32m      1\u001b[0m \u001b[0;31m# cannot assignment to string items\u001b[0m\u001b[0;34m\u001b[0m\u001b[0;34m\u001b[0m\u001b[0;34m\u001b[0m\u001b[0m\n\u001b[0;32m----> 2\u001b[0;31m \u001b[0ms1\u001b[0m\u001b[0;34m[\u001b[0m\u001b[0;36m0\u001b[0m\u001b[0;34m]\u001b[0m \u001b[0;34m=\u001b[0m \u001b[0;34m'1'\u001b[0m\u001b[0;34m\u001b[0m\u001b[0;34m\u001b[0m\u001b[0m\n\u001b[0m",
      "\u001b[0;31mTypeError\u001b[0m: 'str' object does not support item assignment"
     ]
    }
   ],
   "source": [
    "# cannot assignment to string items\n",
    "s1[0] = '1'"
   ]
  },
  {
   "cell_type": "code",
   "execution_count": 23,
   "metadata": {},
   "outputs": [
    {
     "name": "stdout",
     "output_type": "stream",
     "text": [
      "ecbm4040fall2023\n"
     ]
    }
   ],
   "source": [
    "# as opposed to\n",
    "s1 += 'fall2024'\n",
    "\n",
    "# which returns a new string and assign it to s1\n",
    "print(s1)"
   ]
  },
  {
   "cell_type": "markdown",
   "metadata": {},
   "source": [
    "### List and Tuple:\n",
    "\n",
    "> More information at https://www.programiz.com/python-programming/methods"
   ]
  },
  {
   "cell_type": "code",
   "execution_count": 26,
   "metadata": {},
   "outputs": [
    {
     "name": "stdout",
     "output_type": "stream",
     "text": [
      "list: [3, 5, 6, 3, 'dog', 'cat', False]\n",
      "tuple: (3, 5, 6, 3, 'dog', 'cat', False)\n",
      "concat: [3, 5, 6, 3, 'dog', 'cat', False, (0, 'a'), (1, 'b')]\n"
     ]
    }
   ],
   "source": [
    "list1 = [3, 5, 6, 3, 'dog', 'cat', False]\n",
    "tuple1 = (3, 5, 6, 3, 'dog', 'cat', False)\n",
    "\n",
    "print('list:', list1)\n",
    "print('tuple:', tuple1)\n",
    "\n",
    "# list and tuple also support operations like repetition, concatenation, index and slice\n",
    "print('concat:', list1 + [(0, 'a'), (1, 'b')])"
   ]
  },
  {
   "cell_type": "code",
   "execution_count": 27,
   "metadata": {},
   "outputs": [
    {
     "name": "stdout",
     "output_type": "stream",
     "text": [
      "[3, 5, 6, 3, 'dog', 'cat', True]\n"
     ]
    }
   ],
   "source": [
    "# list is mutable\n",
    "list1[-1] = True\n",
    "print(list1)"
   ]
  },
  {
   "cell_type": "code",
   "execution_count": 28,
   "metadata": {},
   "outputs": [
    {
     "ename": "TypeError",
     "evalue": "'tuple' object does not support item assignment",
     "output_type": "error",
     "traceback": [
      "\u001b[0;31m---------------------------------------------------------------------------\u001b[0m",
      "\u001b[0;31mTypeError\u001b[0m                                 Traceback (most recent call last)",
      "\u001b[0;32m/var/folders/h0/nqrjmcgd0nn1y1vdtpg4q86h0000gn/T/ipykernel_2148/2416149698.py\u001b[0m in \u001b[0;36m<module>\u001b[0;34m\u001b[0m\n\u001b[1;32m      1\u001b[0m \u001b[0;31m# tuple is immutable\u001b[0m\u001b[0;34m\u001b[0m\u001b[0;34m\u001b[0m\u001b[0;34m\u001b[0m\u001b[0m\n\u001b[0;32m----> 2\u001b[0;31m \u001b[0mtuple1\u001b[0m\u001b[0;34m[\u001b[0m\u001b[0;34m-\u001b[0m\u001b[0;36m1\u001b[0m\u001b[0;34m]\u001b[0m \u001b[0;34m=\u001b[0m \u001b[0;32mTrue\u001b[0m\u001b[0;34m\u001b[0m\u001b[0;34m\u001b[0m\u001b[0m\n\u001b[0m\u001b[1;32m      3\u001b[0m \u001b[0mprint\u001b[0m\u001b[0;34m(\u001b[0m\u001b[0mtuple1\u001b[0m\u001b[0;34m)\u001b[0m\u001b[0;34m\u001b[0m\u001b[0;34m\u001b[0m\u001b[0m\n",
      "\u001b[0;31mTypeError\u001b[0m: 'tuple' object does not support item assignment"
     ]
    }
   ],
   "source": [
    "# tuple is immutable\n",
    "tuple1[-1] = True\n",
    "print(tuple1)"
   ]
  },
  {
   "cell_type": "code",
   "execution_count": 36,
   "metadata": {},
   "outputs": [
    {
     "ename": "TypeError",
     "evalue": "'tuple' object does not support item assignment",
     "output_type": "error",
     "traceback": [
      "\u001b[0;31m---------------------------------------------------------------------------\u001b[0m",
      "\u001b[0;31mTypeError\u001b[0m                                 Traceback (most recent call last)",
      "\u001b[0;32m/var/folders/h0/nqrjmcgd0nn1y1vdtpg4q86h0000gn/T/ipykernel_2148/1279033703.py\u001b[0m in \u001b[0;36m<module>\u001b[0;34m\u001b[0m\n\u001b[1;32m      3\u001b[0m \u001b[0;34m\u001b[0m\u001b[0m\n\u001b[1;32m      4\u001b[0m \u001b[0;31m# you cannot change the tuple\u001b[0m\u001b[0;34m\u001b[0m\u001b[0;34m\u001b[0m\u001b[0;34m\u001b[0m\u001b[0m\n\u001b[0;32m----> 5\u001b[0;31m \u001b[0mbad_tuple\u001b[0m\u001b[0;34m[\u001b[0m\u001b[0;36m1\u001b[0m\u001b[0;34m]\u001b[0m \u001b[0;34m+=\u001b[0m \u001b[0;34m'd'\u001b[0m\u001b[0;34m\u001b[0m\u001b[0;34m\u001b[0m\u001b[0m\n\u001b[0m",
      "\u001b[0;31mTypeError\u001b[0m: 'tuple' object does not support item assignment"
     ]
    }
   ],
   "source": [
    "# it is a good habit to avoid including mutables into inmmuable container\n",
    "bad_tuple = (1, ['a', 'b', 'c']) # DO NOT DO THIS!!!\n",
    "\n",
    "# it \"seems\" that you cannot change the tuple\n",
    "bad_tuple[1] += 'd'"
   ]
  },
  {
   "cell_type": "code",
   "execution_count": 38,
   "metadata": {},
   "outputs": [
    {
     "name": "stdout",
     "output_type": "stream",
     "text": [
      "the tuple is still changed (1, ['a', 'b', 'c', 'd'])\n"
     ]
    }
   ],
   "source": [
    "# but you have ALREADY changed whats inside\n",
    "print('the tuple is still changed', bad_tuple)"
   ]
  },
  {
   "cell_type": "markdown",
   "metadata": {},
   "source": [
    "### Set and Dictionary:\n",
    "\n",
    "> More information at https://www.programiz.com/python-programming/methods"
   ]
  },
  {
   "cell_type": "markdown",
   "metadata": {},
   "source": [
    "#### Some methods on `set` objects\n",
    "\n",
    "- `.add(item)` to add a single item to the set\n",
    "- `.update([item1, item2, ...])` to add multiple items to the set\n",
    "- `.update(set2, set3, ...)` to add items from all provided sets to the set\n",
    "- `.remove(item)` to remove a single item from the set\n",
    "- `.pop()` to remove and return a random item from the set\n",
    "- `.difference(set2)` to return items in the set that are not in another set\n",
    "- `.intersection(set2)` to return items in both sets\n",
    "- `.union(set2)` to return items that are in either set\n",
    "- `.symmetric_difference(set2)` to return items that are only in one set (not both)\n",
    "- `.issuperset(set2)` does the set contain everything in the other set?\n",
    "- `.issubset(set2)` is the set contained in the other set?"
   ]
  },
  {
   "cell_type": "markdown",
   "metadata": {},
   "source": [
    "#### Some methods on `dict` objects\n",
    "\n",
    "- `.update([(key1, val1), (key2, val2), ...])` to add multiple key-value pairs to the dict\n",
    "- `.update(dict2)` to add all keys and values from another dict to the dict\n",
    "- `.pop(key)` to remove key and return its value from the dict (error if key not found)\n",
    "- `.pop(key, default_val)` to remove key and return its value from the dict (or return default_val if key not found)\n",
    "- `.get(key)` to return the value at a specified key in the dict (or None if key not found)\n",
    "- `.get(key, default_val)` to return the value at a specified key in the dict (or default_val if key not found)\n",
    "- `.keys()` to return a list of keys in the dict\n",
    "- `.values()` to return a list of values in the dict\n",
    "- `.items()` to return a list of key-value pairs (tuples) in the dict"
   ]
  },
  {
   "cell_type": "code",
   "execution_count": 9,
   "metadata": {},
   "outputs": [
    {
     "name": "stdout",
     "output_type": "stream",
     "text": [
      "set: {False, 'dog', 3, 'cat', 5, 6}\n",
      "dictionary: {'name': 'Jane', 'age': 23, 'fav_foods': ['pizza', 'fruit', 'fish']}\n"
     ]
    }
   ],
   "source": [
    "set1 = {3, 5, 6, 3, 'dog', 'cat', False}\n",
    "dict1 = {'name': 'Jane', 'age': 23, 'fav_foods': ['pizza', 'fruit', 'fish']}\n",
    "\n",
    "print('set: {}'.format(set1))\n",
    "print('dictionary: {}'.format(dict1))"
   ]
  },
  {
   "cell_type": "code",
   "execution_count": 10,
   "metadata": {},
   "outputs": [
    {
     "name": "stdout",
     "output_type": "stream",
     "text": [
      "False\n",
      "dog\n",
      "3\n",
      "cat\n",
      "5\n",
      "6\n"
     ]
    }
   ],
   "source": [
    "# set doesn't support index\n",
    "# print(set1[0])\n",
    "\n",
    "# typically you need to iterate through the whole set\n",
    "for item in set1:\n",
    "    print(item)"
   ]
  },
  {
   "cell_type": "code",
   "execution_count": 11,
   "metadata": {},
   "outputs": [
    {
     "name": "stdout",
     "output_type": "stream",
     "text": [
      "Jane\n",
      "['pizza', 'fruit', 'fish']\n"
     ]
    }
   ],
   "source": [
    "# use key to access dictionary item\n",
    "print(dict1['name'])\n",
    "print(dict1['fav_foods'])"
   ]
  },
  {
   "cell_type": "code",
   "execution_count": 12,
   "metadata": {},
   "outputs": [
    {
     "name": "stdout",
     "output_type": "stream",
     "text": [
      "key,value pair iteration:\n",
      "key: name, value: Jane\n",
      "key: age, value: 23\n",
      "key: fav_foods, value: ['pizza', 'fruit', 'fish']\n",
      "\n",
      "key iteration:\n",
      "name\n",
      "age\n",
      "fav_foods\n",
      "\n",
      "value iteration:\n",
      "Jane\n",
      "23\n",
      "['pizza', 'fruit', 'fish']\n"
     ]
    }
   ],
   "source": [
    "# iterate through dictionary\n",
    "\n",
    "# (key, value) pair\n",
    "print('key,value pair iteration:')\n",
    "for key, value in dict1.items():\n",
    "    print('key: {}, value: {}'.format(key,value))\n",
    "\n",
    "# just keys\n",
    "print('\\nkey iteration:')\n",
    "for key in dict1:\n",
    "    print(key)\n",
    "    \n",
    "# just values:\n",
    "print('\\nvalue iteration:')\n",
    "for value in dict1.values():\n",
    "    print(value)"
   ]
  },
  {
   "cell_type": "markdown",
   "metadata": {},
   "source": [
    "### Flow Control\n",
    "\n",
    "One important thing in Python is ***indentation***.\n",
    "\n",
    "> More information at https://docs.python.org/3/tutorial/controlflow.html"
   ]
  },
  {
   "cell_type": "code",
   "execution_count": 48,
   "metadata": {},
   "outputs": [
    {
     "name": "stdout",
     "output_type": "stream",
     "text": [
      "your are a teenager\n"
     ]
    }
   ],
   "source": [
    "# if statement\n",
    "age = 3\n",
    "if age >= 18:\n",
    "    # can be an individual indented block of statements\n",
    "    print('your age is', age)\n",
    "    print('your are an adult')\n",
    "# or a single statement inline\n",
    "else: print('your are a teenager')"
   ]
  },
  {
   "cell_type": "code",
   "execution_count": 52,
   "metadata": {},
   "outputs": [
    {
     "name": "stdout",
     "output_type": "stream",
     "text": [
      "45\n",
      "45\n"
     ]
    }
   ],
   "source": [
    "# for and while\n",
    "sum_ = 0\n",
    "for i in range(10):\n",
    "    sum_ += i\n",
    "print(sum_)\n",
    "\n",
    "# you are allowed to assign multiple values in one statement\n",
    "i, sum_ = 0, 0\n",
    "while i < 10:\n",
    "    sum_ += i\n",
    "    i += 1\n",
    "print(sum_)"
   ]
  },
  {
   "cell_type": "markdown",
   "metadata": {},
   "source": [
    "### Functions"
   ]
  },
  {
   "cell_type": "code",
   "execution_count": 53,
   "metadata": {},
   "outputs": [],
   "source": [
    "# define function:\n",
    "def myfunction(some_args):\n",
    "    pass\n",
    "    # do something\n",
    "    return"
   ]
  },
  {
   "cell_type": "markdown",
   "metadata": {},
   "source": [
    "#### Positional arguments and keyword arguments to callables\n",
    "\n",
    "You can call a function/method in a number of different ways:\n",
    "\n",
    "- `func()`: Call `func` with no arguments\n",
    "- `func(arg)`: Call `func` with one positional argument\n",
    "- `func(arg1, arg2)`: Call `func` with two positional arguments\n",
    "- `func(arg1, arg2, ..., argn)`: Call `func` with many positional arguments\n",
    "- `func(kwarg=value)`: Call `func` with one keyword argument \n",
    "- `func(kwarg1=value1, kwarg2=value2)`: Call `func` with two keyword arguments\n",
    "- `func(kwarg1=value1, kwarg2=value2, ..., kwargn=valuen)`: Call `func` with many keyword arguments\n",
    "- `func(arg1, arg2, kwarg1=value1, kwarg2=value2)`: Call `func` with positonal arguments and keyword arguments\n",
    "- `obj.method()`: Same for `func`.. and every other `func` example\n",
    "\n",
    "Rules:\n",
    "\n",
    "- When using **positional arguments**, you must provide them in the order that the function defined them (the function's **signature**).\n",
    "- When using **keyword arguments**, you can provide the arguments you want, in any order you want, as long as you specify each argument's name.\n",
    "- When using positional and keyword arguments, positional arguments must come first."
   ]
  },
  {
   "cell_type": "code",
   "execution_count": 54,
   "metadata": {},
   "outputs": [
    {
     "name": "stdout",
     "output_type": "stream",
     "text": [
      "('ecbm', '4040')\n",
      "<class 'tuple'>\n",
      "ecbm\n",
      "4040\n"
     ]
    }
   ],
   "source": [
    "# python function can have multiple return\n",
    "def myfunction(x, y):\n",
    "    return x, y\n",
    "\n",
    "result = myfunction('ecbm', '4040')\n",
    "\n",
    "print(result)\n",
    "print(type(result))\n",
    "\n",
    "# tuple can be decomposed into separate variables\n",
    "x, y = myfunction('ecbm', '4040')\n",
    "print(x)\n",
    "print(y)"
   ]
  },
  {
   "cell_type": "markdown",
   "metadata": {},
   "source": [
    "## Class\n",
    "\n",
    "A **`class`** is a template for building a certain type of objects.\n",
    "\n",
    "> More information at https://python.swaroopch.com/oop.html"
   ]
  },
  {
   "cell_type": "code",
   "execution_count": 64,
   "metadata": {},
   "outputs": [],
   "source": [
    "# class definition\n",
    "class Complex(object):\n",
    "    # constructor \n",
    "    def __init__(self, realpart, imagpart):\n",
    "        self.r = realpart\n",
    "        self.i = imagpart\n",
    "\n",
    "    def __repr__(self):\n",
    "        return \"{}{}{}i\".format(self.r, '+' if self.i > 0 else '', self.i)\n",
    "\n",
    "    def add(self, obj):\n",
    "        # you can use this built-in function to determine object type\n",
    "        r, i = 0, 0\n",
    "        if isinstance(obj, int or float):\n",
    "            r += obj\n",
    "        elif isinstance(obj, Complex):\n",
    "            r += obj.r\n",
    "            i += obj.i\n",
    "        else:\n",
    "            raise ValueError('cannot add type {} to type Complex'.format(type(obj).__name__))\n",
    "        # you are allowed to referece the class within its definition\n",
    "        return Complex(r, i)\n",
    "\n",
    "    # allows for operator overloading\n",
    "    def __add__(self, obj):\n",
    "        return self.add(obj)"
   ]
  },
  {
   "cell_type": "code",
   "execution_count": 65,
   "metadata": {},
   "outputs": [
    {
     "name": "stdout",
     "output_type": "stream",
     "text": [
      "2+3i\n",
      "2+3i\n"
     ]
    },
    {
     "ename": "ValueError",
     "evalue": "cannot add type str to type Complex",
     "output_type": "error",
     "traceback": [
      "\u001b[0;31m---------------------------------------------------------------------------\u001b[0m",
      "\u001b[0;31mValueError\u001b[0m                                Traceback (most recent call last)",
      "\u001b[0;32m/var/folders/h0/nqrjmcgd0nn1y1vdtpg4q86h0000gn/T/ipykernel_2148/358020868.py\u001b[0m in \u001b[0;36m<module>\u001b[0;34m\u001b[0m\n\u001b[1;32m      8\u001b[0m \u001b[0mprint\u001b[0m\u001b[0;34m(\u001b[0m\u001b[0mcomplex1\u001b[0m \u001b[0;34m+\u001b[0m \u001b[0mcomplex2\u001b[0m\u001b[0;34m)\u001b[0m\u001b[0;34m\u001b[0m\u001b[0;34m\u001b[0m\u001b[0m\n\u001b[1;32m      9\u001b[0m \u001b[0;31m# raise error\u001b[0m\u001b[0;34m\u001b[0m\u001b[0;34m\u001b[0m\u001b[0;34m\u001b[0m\u001b[0m\n\u001b[0;32m---> 10\u001b[0;31m \u001b[0mprint\u001b[0m\u001b[0;34m(\u001b[0m\u001b[0mcomplex1\u001b[0m \u001b[0;34m+\u001b[0m \u001b[0;34m'complex2'\u001b[0m\u001b[0;34m)\u001b[0m\u001b[0;34m\u001b[0m\u001b[0;34m\u001b[0m\u001b[0m\n\u001b[0m",
      "\u001b[0;32m/var/folders/h0/nqrjmcgd0nn1y1vdtpg4q86h0000gn/T/ipykernel_2148/3129303991.py\u001b[0m in \u001b[0;36m__add__\u001b[0;34m(self, obj)\u001b[0m\n\u001b[1;32m     24\u001b[0m     \u001b[0;31m# allows for operator overloading\u001b[0m\u001b[0;34m\u001b[0m\u001b[0;34m\u001b[0m\u001b[0;34m\u001b[0m\u001b[0m\n\u001b[1;32m     25\u001b[0m     \u001b[0;32mdef\u001b[0m \u001b[0m__add__\u001b[0m\u001b[0;34m(\u001b[0m\u001b[0mself\u001b[0m\u001b[0;34m,\u001b[0m \u001b[0mobj\u001b[0m\u001b[0;34m)\u001b[0m\u001b[0;34m:\u001b[0m\u001b[0;34m\u001b[0m\u001b[0;34m\u001b[0m\u001b[0m\n\u001b[0;32m---> 26\u001b[0;31m         \u001b[0;32mreturn\u001b[0m \u001b[0mself\u001b[0m\u001b[0;34m.\u001b[0m\u001b[0madd\u001b[0m\u001b[0;34m(\u001b[0m\u001b[0mobj\u001b[0m\u001b[0;34m)\u001b[0m\u001b[0;34m\u001b[0m\u001b[0;34m\u001b[0m\u001b[0m\n\u001b[0m",
      "\u001b[0;32m/var/folders/h0/nqrjmcgd0nn1y1vdtpg4q86h0000gn/T/ipykernel_2148/3129303991.py\u001b[0m in \u001b[0;36madd\u001b[0;34m(self, obj)\u001b[0m\n\u001b[1;32m     18\u001b[0m             \u001b[0mi\u001b[0m \u001b[0;34m+=\u001b[0m \u001b[0mobj\u001b[0m\u001b[0;34m.\u001b[0m\u001b[0mi\u001b[0m\u001b[0;34m\u001b[0m\u001b[0;34m\u001b[0m\u001b[0m\n\u001b[1;32m     19\u001b[0m         \u001b[0;32melse\u001b[0m\u001b[0;34m:\u001b[0m\u001b[0;34m\u001b[0m\u001b[0;34m\u001b[0m\u001b[0m\n\u001b[0;32m---> 20\u001b[0;31m             \u001b[0;32mraise\u001b[0m \u001b[0mValueError\u001b[0m\u001b[0;34m(\u001b[0m\u001b[0;34m'cannot add type {} to type Complex'\u001b[0m\u001b[0;34m.\u001b[0m\u001b[0mformat\u001b[0m\u001b[0;34m(\u001b[0m\u001b[0mtype\u001b[0m\u001b[0;34m(\u001b[0m\u001b[0mobj\u001b[0m\u001b[0;34m)\u001b[0m\u001b[0;34m.\u001b[0m\u001b[0m__name__\u001b[0m\u001b[0;34m)\u001b[0m\u001b[0;34m)\u001b[0m\u001b[0;34m\u001b[0m\u001b[0;34m\u001b[0m\u001b[0m\n\u001b[0m\u001b[1;32m     21\u001b[0m         \u001b[0;31m# you are allowed to referece the class within its definition\u001b[0m\u001b[0;34m\u001b[0m\u001b[0;34m\u001b[0m\u001b[0;34m\u001b[0m\u001b[0m\n\u001b[1;32m     22\u001b[0m         \u001b[0;32mreturn\u001b[0m \u001b[0mComplex\u001b[0m\u001b[0;34m(\u001b[0m\u001b[0mr\u001b[0m\u001b[0;34m,\u001b[0m \u001b[0mi\u001b[0m\u001b[0;34m)\u001b[0m\u001b[0;34m\u001b[0m\u001b[0;34m\u001b[0m\u001b[0m\n",
      "\u001b[0;31mValueError\u001b[0m: cannot add type str to type Complex"
     ]
    }
   ],
   "source": [
    "# create an object from class, need to pass the required arguments of constructor \n",
    "complex1 = Complex(1, 2)\n",
    "complex2 = Complex(2, 3)\n",
    "\n",
    "# use .add\n",
    "print(complex1.add(complex2))\n",
    "# use '+'\n",
    "print(complex1 + complex2)\n",
    "# raise error\n",
    "print(complex1 + 'complex2')"
   ]
  },
  {
   "cell_type": "code",
   "execution_count": 66,
   "metadata": {},
   "outputs": [
    {
     "data": {
      "text/plain": [
       "['__add__',\n",
       " '__class__',\n",
       " '__delattr__',\n",
       " '__dict__',\n",
       " '__dir__',\n",
       " '__doc__',\n",
       " '__eq__',\n",
       " '__format__',\n",
       " '__ge__',\n",
       " '__getattribute__',\n",
       " '__gt__',\n",
       " '__hash__',\n",
       " '__init__',\n",
       " '__init_subclass__',\n",
       " '__le__',\n",
       " '__lt__',\n",
       " '__module__',\n",
       " '__ne__',\n",
       " '__new__',\n",
       " '__reduce__',\n",
       " '__reduce_ex__',\n",
       " '__repr__',\n",
       " '__setattr__',\n",
       " '__sizeof__',\n",
       " '__str__',\n",
       " '__subclasshook__',\n",
       " '__weakref__',\n",
       " 'add']"
      ]
     },
     "execution_count": 66,
     "metadata": {},
     "output_type": "execute_result"
    }
   ],
   "source": [
    "# dir can check class methods\n",
    "dir(Complex)"
   ]
  },
  {
   "cell_type": "code",
   "execution_count": 21,
   "metadata": {},
   "outputs": [
    {
     "data": {
      "text/plain": [
       "['__class__',\n",
       " '__delattr__',\n",
       " '__dir__',\n",
       " '__doc__',\n",
       " '__eq__',\n",
       " '__format__',\n",
       " '__ge__',\n",
       " '__getattribute__',\n",
       " '__gt__',\n",
       " '__hash__',\n",
       " '__init__',\n",
       " '__init_subclass__',\n",
       " '__le__',\n",
       " '__lt__',\n",
       " '__ne__',\n",
       " '__new__',\n",
       " '__reduce__',\n",
       " '__reduce_ex__',\n",
       " '__repr__',\n",
       " '__setattr__',\n",
       " '__sizeof__',\n",
       " '__str__',\n",
       " '__subclasshook__']"
      ]
     },
     "execution_count": 21,
     "metadata": {},
     "output_type": "execute_result"
    }
   ],
   "source": [
    "# double underscores + some name + double underscores function is build-in function in python class\n",
    "# all python classes inherit from 'object' class\n",
    "dir(object)"
   ]
  },
  {
   "cell_type": "markdown",
   "metadata": {},
   "source": [
    "## The End\n",
    "\n",
    "We would not be able cover everything in Python in this short tutorial. But since Python has *huge* community, you can learn more and find answer to (almost all) your questions on the internet. Have fun coding in Python!"
   ]
  },
  {
   "cell_type": "markdown",
   "metadata": {},
   "source": []
  }
 ],
 "metadata": {
  "kernelspec": {
   "display_name": "Python 3 (ipykernel)",
   "language": "python",
   "name": "python3"
  },
  "language_info": {
   "codemirror_mode": {
    "name": "ipython",
    "version": 3
   },
   "file_extension": ".py",
   "mimetype": "text/x-python",
   "name": "python",
   "nbconvert_exporter": "python",
   "pygments_lexer": "ipython3",
   "version": "3.7.11"
  },
  "vscode": {
   "interpreter": {
    "hash": "0e1c6790556d9715f0c5f336baccb730b1eb6fd7378371b19e40b5e23833f2cd"
   }
  }
 },
 "nbformat": 4,
 "nbformat_minor": 4
}
